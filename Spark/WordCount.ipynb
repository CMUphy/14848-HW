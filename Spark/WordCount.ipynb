{
 "cells": [
  {
   "cell_type": "code",
   "execution_count": 114,
   "id": "723695ba",
   "metadata": {
    "scrolled": true
   },
   "outputs": [
    {
     "name": "stderr",
     "output_type": "stream",
     "text": [
      "                                                                                \r"
     ]
    }
   ],
   "source": [
    "from pyspark import SparkContext, SparkConf\n",
    "\n",
    "import json\n",
    "\n",
    "conf = SparkConf()\n",
    "# create Spark context with necessary configuration\n",
    "sc = SparkContext.getOrCreate(conf=conf)\n",
    "\n",
    "stopwords = ['they','she','he','it','the','as','is','and']\n",
    "targetList = ['.',',',';','?','!','(',')','\\n','\\r','\"','  ',':','[',']','\\t','|','-',\"'s\"]\n",
    "\n",
    "def replaceAndSplit(word_path): \n",
    "    filename = word_path[0]\n",
    "    content = word_path[1].lower()\n",
    "    for c in targetList:\n",
    "        content = content.replace(c, ' ')\n",
    "    words = content.split();\n",
    "    res = []\n",
    "    for word in words :\n",
    "        res.append((word,filename))\n",
    "    \n",
    "    return res\n",
    "\n",
    "\n",
    "file_path = '/notebooks/Data/*/*'\n",
    "\n",
    "rdd_whole_file = sc.wholeTextFiles(file_path) # filename + content\n",
    "\n",
    "rdd_whole_word = rdd_whole_file.flatMap(replaceAndSplit) # (word , filename)\n",
    "\n",
    "rdd_remove_stopword = rdd_whole_word.filter(lambda whole_word : whole_word[0] not in stopwords)\n",
    "\n",
    "rdd_wordCount = rdd_remove_stopword.map(lambda word: ((word[0],word[1]),1)).reduceByKey(lambda a,b:a +b)# ((word , filename) , count)\n",
    "\n",
    "rdd_wordCountAll = rdd_wordCount.map(lambda word: ((word[0][0], (word[0][1],word[1])))).reduceByKey(lambda a,b:a +b)# (word , (filename ,count))\n",
    "\n",
    "rdd_res = rdd_wordCountAll.map(lambda word: ((word[0], [word[1]])))\n",
    "\n",
    "rdd_res.saveAsTextFile(\"/notebooks/output\")\n",
    "\n",
    "\n",
    "\n"
   ]
  },
  {
   "cell_type": "code",
   "execution_count": null,
   "id": "e7d7c349",
   "metadata": {},
   "outputs": [],
   "source": []
  },
  {
   "cell_type": "code",
   "execution_count": null,
   "id": "0d7fcf4c",
   "metadata": {},
   "outputs": [],
   "source": []
  },
  {
   "cell_type": "code",
   "execution_count": null,
   "id": "fafcb408",
   "metadata": {},
   "outputs": [],
   "source": []
  },
  {
   "cell_type": "code",
   "execution_count": null,
   "id": "70270f57",
   "metadata": {},
   "outputs": [],
   "source": []
  }
 ],
 "metadata": {
  "kernelspec": {
   "display_name": "Python 3 (ipykernel)",
   "language": "python",
   "name": "python3"
  },
  "language_info": {
   "codemirror_mode": {
    "name": "ipython",
    "version": 3
   },
   "file_extension": ".py",
   "mimetype": "text/x-python",
   "name": "python",
   "nbconvert_exporter": "python",
   "pygments_lexer": "ipython3",
   "version": "3.9.7"
  }
 },
 "nbformat": 4,
 "nbformat_minor": 5
}
